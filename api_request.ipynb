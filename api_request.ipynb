{
 "cells": [
  {
   "cell_type": "code",
   "execution_count": 16,
   "metadata": {},
   "outputs": [],
   "source": [
    "from bs4 import BeautifulSoup\n",
    "import requests\n",
    "import pandas as pd\n",
    "import openpyxl\n",
    "from openpyxl import Workbook\n",
    "import json\n",
    "import folium\n",
    "from folium import features\n",
    "import vincent\n",
    "import shapefile\n",
    "from json import dumps\n",
    "import random\n",
    "import pandas as pd\n",
    "import geojson\n",
    "import plotly.express as px\n",
    "import pandas as pd\n",
    "import numpy as np\n",
    "from plotly import graph_objects as go\n",
    "from plotly.subplots import make_subplots\n",
    "import folium\n",
    "import branca\n",
    "from folium.plugins import BeautifyIcon\n",
    "\n",
    "\n",
    "month_to_number = {\"Jan\": 1, \"Feb\":2 , \"Mar\":3 , \"Apr\":4, \"May\": 5, \"Jun\":6, \"Jul\":7, \"Aug\":8, \"Sep\":9, \"Oct\":10, \"Nov\":11, \"Dec\":12}\n",
    "def get_html_table(url):\n",
    "\thtml_content = requests.get(url).text\n",
    "\tsoup = BeautifulSoup(html_content, \"html.parser\")\n",
    "\ttable = soup.find_all(\"table\", class_=\"table table-bordered table-hover cc_cursor\")\n",
    "\treturn table\n",
    "    \n",
    "def table_to_df(table_data, headings):\n",
    "\tdata = []\n",
    "\tfor row in table_data:\n",
    "\t\trow_data = row.find_all('td')\n",
    "\t\tsub_data =[]\n",
    "\t\tfor cell in row_data:\n",
    "\t\t\tentry = cell.text\n",
    "\t\t\tsub_data.append(entry)\n",
    "\t\tdata.append(sub_data)\n",
    "\n",
    "\tdf = pd.DataFrame(data, columns=headings)\n",
    "\t\n",
    "\treturn df\n",
    "\n",
    "def get_river_flow_data():\n",
    "\turl=\"http://www.wapda.gov.pk/index.php/river-flow-data\"\n",
    "\ttable = get_html_table(url)\n",
    "\t\n",
    "\ttable_data = table[0].find_all('tr')\n",
    "\ttable_data = table_data[4:]\n",
    "\tHeadings = ['Date', 'Indus_levels','Indus at Tarbela (m3/s)','Indus_Outflow','Kabul at Nowshera (m3/s)',\n",
    "\t'Jhelum_levels','Jhelum at Mangla (m3/s)','Jhelum_Outflow', 'Chenab at Marala (m3/s)','System_Inflow_now',\n",
    "\t'System_Inflow_past','System_Inflow_avg']\n",
    "\tdf = table_to_df(table_data,headings = Headings)\n",
    "\tdf.drop(['Indus_levels', 'Indus_Outflow', 'Jhelum_levels', 'Jhelum_Outflow', 'System_Inflow_now', 'System_Inflow_past', 'System_Inflow_avg'], axis = 1, inplace = True)\n",
    "\treturn df, table[0]\n",
    "\n",
    "\n",
    "# Retrieving, organizing, and cleaning the data fetched\n",
    "\n",
    "\n",
    "master_df, table = get_river_flow_data()\n",
    "row = list(table.find_all('tr')[1])\n",
    "row.remove('\\n')\n",
    "period= row[0]\n",
    "period = period.text\n",
    "starting_period, ending_period = period[::-1][0:7][::-1].split('-')[0],\"20\" + period[::-1][0:7][::-1].split('-')[1]\n",
    "\n",
    "master_df['Date'] = master_df['Date'].apply(lambda date: date.replace('-', ' ')).apply(lambda date: date.replace('/', ' ')).apply(lambda date: date[:len(date)-1])\n",
    "master_df = master_df[::-1].reset_index(drop = True, inplace = False)\n",
    "master_df[['Day','Month']] = master_df['Date'].str.split(' ',expand=True)\n",
    "master_df['Month'] = master_df['Month'].apply(lambda month: 'Nov' if (month == 'No') else (\"Aug\" if month == 'Au' else month))\n",
    "years_list = []\n",
    "curr = starting_period \n",
    "months = master_df['Month']\n",
    "# print(list(set(months)))\n",
    "prev = \"init\"\n",
    "for month in months: \n",
    "    if prev == \"Dec\" and month == \"Jan\": \n",
    "        curr = ending_period \n",
    "    years_list.append(curr)\n",
    "    prev = month\n",
    "\n",
    "master_df[\"Year\"] = years_list\n",
    "\n",
    "\n",
    "\n",
    "\n",
    "master_df[\"Month\"] = master_df[\"Month\"].apply(lambda month: month_to_number[month])\n",
    "master_df[\"Date\"] = pd.to_datetime(master_df[[\"Year\", \"Month\", \"Day\"]])\n",
    "master_df = master_df[['Date', 'Indus at Tarbela (m3/s)','Kabul at Nowshera (m3/s)','Jhelum at Mangla (m3/s)','Chenab at Marala (m3/s)']]\n",
    "\n",
    "for data_col in list(master_df.columns)[1:]:\n",
    "\tmaster_df[data_col] = master_df[data_col].apply(lambda data: data.strip())"
   ]
  },
  {
   "cell_type": "code",
   "execution_count": 17,
   "metadata": {},
   "outputs": [
    {
     "name": "stderr",
     "output_type": "stream",
     "text": [
      "<ipython-input-17-cd66427dd5cc>:43: SettingWithCopyWarning: \n",
      "A value is trying to be set on a copy of a slice from a DataFrame.\n",
      "Try using .loc[row_indexer,col_indexer] = value instead\n",
      "\n",
      "See the caveats in the documentation: https://pandas.pydata.org/pandas-docs/stable/user_guide/indexing.html#returning-a-view-versus-a-copy\n",
      "  df[col_name] = pd.to_numeric(df[col_name], downcast=\"float\")\n",
      "<ipython-input-17-cd66427dd5cc>:43: SettingWithCopyWarning:\n",
      "\n",
      "\n",
      "A value is trying to be set on a copy of a slice from a DataFrame.\n",
      "Try using .loc[row_indexer,col_indexer] = value instead\n",
      "\n",
      "See the caveats in the documentation: https://pandas.pydata.org/pandas-docs/stable/user_guide/indexing.html#returning-a-view-versus-a-copy\n",
      "\n"
     ]
    }
   ],
   "source": [
    "\n",
    "m1 = folium.Map(location=(32, 67), #location sets the longitude and latitude of the map\n",
    "              zoom_start=4, tiles='Stamen Terrain')\n",
    "plotting_data = {\n",
    "    \"Indus\": {\n",
    "        \"location\": \"Tarbela\", \n",
    "        \"coords\": [34.088961, 72.697154], \n",
    "        \"shapefile\": 'UIB/UIB_30m_New.shp', \n",
    "        \"fillColor\" : '#1F51FF', \n",
    "        \"border_color\" : '#1F51FF'\n",
    "        }, \n",
    "    \"Kabul\":{\n",
    "        \"location\": \"Nowshera\", \n",
    "        \"coords\": [34.0105, 71.9876], \n",
    "        \"shapefile\": 'Kabul/krbshape.shp', \n",
    "        \"fillColor\": '#7f00ff', \n",
    "        \"border_color\" : '#7f00ff'\n",
    "        }, \n",
    "    \"Jhelum\": {\n",
    "        \"location\": \"Mangla\", \n",
    "        \"coords\": [33.0947, 73.6418], \n",
    "        \"shapefile\": 'mangla/newmangla.shp', \n",
    "        \"fillColor\": 'yellow', \n",
    "        \"border_color\" : 'yellow'\n",
    "        },\n",
    "    \"Chenab\":{\n",
    "        \"location\": \"Marala\", \n",
    "        \"coords\":[32.7772, 73.8779], \n",
    "        \"shapefile\": 'chenab/newchenab.shp', \n",
    "        \"fillColor\": 'red', \n",
    "        \"border_color\" : 'firebrick'\n",
    "        }, \n",
    "\n",
    "}\n",
    "\n",
    "# Generating the html plots \n",
    "\n",
    "for river in plotting_data.keys(): \n",
    "\n",
    "    col_name = \"{} at {} (m3/s)\".format(river, plotting_data[river][\"location\"])\n",
    "    shpfile = plotting_data[river][\"shapefile\"]\n",
    "\n",
    "    df = master_df[[\"Date\", col_name]]\n",
    "    df[col_name] = pd.to_numeric(df[col_name], downcast=\"float\")\n",
    "    fig=make_subplots(specs=[[{\"secondary_y\":True}]])\n",
    "    fig.add_trace(                           \n",
    "        go.Scatter(\n",
    "        x=df['Date'],\n",
    "        y=df[col_name],\n",
    "        mode='lines',                  \n",
    "        line = dict(color='firebrick', width=3)\n",
    "        )\n",
    "    )\n",
    "    \n",
    "    fig.update_layout(hoverlabel_bgcolor='#DAEEED',  #Change the background color of the tooltip to light gray\n",
    "                #title_text=\"Housing Market Trends: Atlanta, GA\", #Add a chart title\n",
    "                title_font_family=\"Times New Roman\",\n",
    "                title_font_size = 20,\n",
    "                title_font_color=\"darkblue\", #Specify font color of the title\n",
    "                title_x=0.5, #Specify the title position\n",
    "                xaxis_title='Date'     ,\n",
    "                yaxis_title=col_name,\n",
    "                )\n",
    "\n",
    "    plot_name = \"Timeseries Plots/{}.html\".format(river)\n",
    "    fig.write_html(plot_name)\n",
    "\n",
    "    html_list=[]\n",
    "    html_list.append(plot_name)\n",
    "    df2=pd.DataFrame(html_list,columns =['html_file'])\n",
    "    #df2\n",
    "\n",
    "\n",
    "    icon_circle = BeautifyIcon(\n",
    "        icon_shape='circle-dot', \n",
    "        border_color=plotting_data[river][\"border_color\"], \n",
    "        border_width=6,\n",
    "    )\n",
    "\n",
    "    for i in range(0,len(html_list)):\n",
    "        html=\"\"\"\n",
    "        <iframe src=\\\"\"\"\" + df2['html_file'][i] + \"\"\"\\\" width=\"600\" height=\"300\"  frameborder=\"0\">    \n",
    "        \"\"\"\n",
    "        popup = folium.Popup(folium.Html(html, script=True))\n",
    "        folium.Marker( location=plotting_data[river][\"coords\"],tooltip=plotting_data[river][\"location\"], icon=icon_circle,\n",
    "                    popup=popup,).add_to(m1)\n",
    "    \n",
    "\n",
    "\n",
    "\n",
    "    reader = shapefile.Reader(shpfile)\n",
    "    fields = reader.fields[1:]\n",
    "    field_names = [field[0] for field in fields]\n",
    "    buffer = []\n",
    "    for sr in reader.shapeRecords():\n",
    "        atr = dict(zip(field_names, sr.record))\n",
    "        geom = sr.shape.__geo_interface__\n",
    "        buffer.append(dict(type=\"Feature\",     geometry=geom, properties=atr)) \n",
    "\n",
    "    json_name = \"{}.json\".format(river)\n",
    "    #writing the GEOJson file\n",
    "    geojson = open(json_name.format(river), \"w\") #this file is saved in the current working directory\n",
    "    geojson.write(dumps({\"type\": \"FeatureCollection\",\"features\": buffer}, indent=2) + \"\\n\")\n",
    "    geojson.close()\n",
    "\n",
    "\n",
    "    style = {'fillColor': plotting_data[river][\"fillColor\"]}    \n",
    "    polygon = folium.GeoJson(json_name, style_function = lambda x: style).add_to(m1)\n",
    "\n",
    "\n",
    "\n",
    "m1.save(\"Final plot.html\")"
   ]
  },
  {
   "cell_type": "code",
   "execution_count": 18,
   "metadata": {},
   "outputs": [
    {
     "name": "stdout",
     "output_type": "stream",
     "text": [
      "<class 'str'>\n"
     ]
    }
   ],
   "source": [
    "source_code = open(\"Timeseries Plots/indus.html\", 'r', encoding= 'utf-8').read()\n",
    "text_file = open(\"sample.html\", \"w\")\n",
    "n = text_file.write(source_code)\n",
    "text_file.close()\n",
    "print(type(source_code))"
   ]
  },
  {
   "cell_type": "code",
   "execution_count": 14,
   "metadata": {},
   "outputs": [
    {
     "data": {
      "text/plain": [
       "'Timeseries Plots/indus.html'"
      ]
     },
     "execution_count": 14,
     "metadata": {},
     "output_type": "execute_result"
    }
   ],
   "source": [
    "import pandas as pd\n",
    "\n",
    "plot_name = \"Timeseries Plots/indus.html\"\n",
    "\n",
    "html_list=[]\n",
    "html_list.append(plot_name)\n",
    "df2=pd.DataFrame(html_list,columns = ['html_file'])\n",
    "df2['html_file'][0]"
   ]
  },
  {
   "cell_type": "code",
   "execution_count": 21,
   "metadata": {},
   "outputs": [
    {
     "data": {
      "text/plain": [
       "matplotlib.axes._subplots.AxesSubplot"
      ]
     },
     "execution_count": 21,
     "metadata": {},
     "output_type": "execute_result"
    },
    {
     "data": {
      "image/png": "[encoded data removed]",
      "text/plain": [
       "<Figure size 432x288 with 1 Axes>"
      ]
     },
     "metadata": {
      "needs_background": "light"
     },
     "output_type": "display_data"
    }
   ],
   "source": [
    "type(df.plot(x=\"Date\"))"
   ]
  },
  {
   "cell_type": "code",
   "execution_count": null,
   "metadata": {},
   "outputs": [],
   "source": []
  }
 ],
 "metadata": {
  "kernelspec": {
   "display_name": "Python 3",
   "language": "python",
   "name": "python3"
  },
  "language_info": {
   "codemirror_mode": {
    "name": "ipython",
    "version": 3
   },
   "file_extension": ".py",
   "mimetype": "text/x-python",
   "name": "python",
   "nbconvert_exporter": "python",
   "pygments_lexer": "ipython3",
   "version": "3.9.5"
  },
  "orig_nbformat": 4,
  "vscode": {
   "interpreter": {
    "hash": "e92233acfb7260baba893eb875e6c0c59f51ef89cc62e4fb83d8136933bbf2f3"
   }
  }
 },
 "nbformat": 4,
 "nbformat_minor": 2
}
